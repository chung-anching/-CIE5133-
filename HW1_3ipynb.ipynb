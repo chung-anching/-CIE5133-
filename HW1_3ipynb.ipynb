{
  "nbformat": 4,
  "nbformat_minor": 0,
  "metadata": {
    "colab": {
      "name": "HW1-3ipynb",
      "provenance": [],
      "collapsed_sections": [],
      "include_colab_link": true
    },
    "kernelspec": {
      "name": "python3",
      "display_name": "Python 3"
    },
    "language_info": {
      "name": "python"
    }
  },
  "cells": [
    {
      "cell_type": "markdown",
      "metadata": {
        "id": "view-in-github",
        "colab_type": "text"
      },
      "source": [
        "<a href=\"https://colab.research.google.com/github/chung-anching/-CIE5133-/blob/main/HW1_3ipynb.ipynb\" target=\"_parent\"><img src=\"https://colab.research.google.com/assets/colab-badge.svg\" alt=\"Open In Colab\"/></a>"
      ]
    },
    {
      "cell_type": "markdown",
      "metadata": {
        "id": "HKrlXgxaW5H4"
      },
      "source": [
        "### **Student ID**\n",
        "Please fill in your student IDs below. Please notice that different student IDs should receive different dataset, which will lead to different answer. Make sure you fill the correct student IDs that you enrolled this class. Otherwise, you will get wrong answer and get no points."
      ]
    },
    {
      "cell_type": "code",
      "metadata": {
        "id": "hBm2N-lpYI7p"
      },
      "source": [
        "student_id = 'your_student_id' # fill with your student ID\n",
        "\n",
        "assert student_id != 'your_student_id', 'Please fill in your student_id before you start.'"
      ],
      "execution_count": null,
      "outputs": []
    },
    {
      "cell_type": "code",
      "metadata": {
        "id": "njeP6RQPWi5T"
      },
      "source": [
        "import numpy as np\n",
        "from sklearn import datasets\n",
        "def gen_data(id):\n",
        "  np.random.seed(int(id[-3:]))\n",
        "  return datasets.make_regression(n_samples=10, n_features=1, noise=20)"
      ],
      "execution_count": null,
      "outputs": []
    },
    {
      "cell_type": "markdown",
      "metadata": {
        "id": "LGywKkTta4j2"
      },
      "source": [
        "### **Generate the data**\n",
        "The following code gen_data will generate your homework data. Please use this set of data to finish your homework. "
      ]
    },
    {
      "cell_type": "code",
      "metadata": {
        "id": "Au0n_oQEZ8mF"
      },
      "source": [
        "X, Y = gen_data(student_id)"
      ],
      "execution_count": null,
      "outputs": []
    },
    {
      "cell_type": "markdown",
      "metadata": {
        "id": "Yxdk2rm5bp-Z"
      },
      "source": [
        "### **Least_Squares_Fit Function**\n",
        "The following block is the main goal of this homework. Try your best to finish the TODO block which implement the least squares model, and find the corresponding beta0 and beta1."
      ]
    },
    {
      "cell_type": "code",
      "metadata": {
        "id": "SoN43jB0aOVV"
      },
      "source": [
        "def least_squares_fit(X, Y):\n",
        "  # TODO: Please implement the linear regression model\n",
        "  beta0 = 0.213\n",
        "  beta1 = 1.344\n",
        "  return beta0, beta1"
      ],
      "execution_count": null,
      "outputs": []
    },
    {
      "cell_type": "markdown",
      "metadata": {
        "id": "XQEevA4Fcazk"
      },
      "source": [
        "### **Draw the data**\n",
        "The plot_data function is where you draw the data, please finish the TODO by yourself."
      ]
    },
    {
      "cell_type": "code",
      "metadata": {
        "id": "oxdAp3jLcwDK"
      },
      "source": [
        "import matplotlib.pyplot as plt \n",
        "def plot_data(X, Y, beta0, beta1):\n",
        "  # TODO: Plot the data and save it as fig_name\n",
        "  fig_name = student_id+'_p3.png'\n",
        "  # TODO: This is just a sample\n",
        "  plt.plot([1, 2, 3, 4], [1, 2, 5, 4])\n",
        "  plt.savefig(fig_name)\n",
        "\n"
      ],
      "execution_count": null,
      "outputs": []
    },
    {
      "cell_type": "markdown",
      "metadata": {
        "id": "ieW85QtWcLHo"
      },
      "source": [
        "### **The CSV file**\n",
        "The output_csv function is to output your beta0 and beta1 to a standard format. Please pass in your beta0 and beta1 to generate the csv file. Notice that if your format is different from us, you'll get zero points in this homework. "
      ]
    },
    {
      "cell_type": "code",
      "metadata": {
        "id": "Bft36FXcd9Le"
      },
      "source": [
        "import csv\n",
        "def output_csv(beta0, beta1):\n",
        "  csv_file_name = student_id + '_p3.csv'\n",
        "  with open(csv_file_name, 'w', newline='') as csvfile:\n",
        "    writer = csv.writer(csvfile)\n",
        "    writer.writerow([round(beta0, 2)])\n",
        "    writer.writerow([round(beta1, 2)])"
      ],
      "execution_count": null,
      "outputs": []
    },
    {
      "cell_type": "markdown",
      "metadata": {
        "id": "ojm7H30geeho"
      },
      "source": [
        "### **Sample Run**"
      ]
    },
    {
      "cell_type": "code",
      "metadata": {
        "colab": {
          "base_uri": "https://localhost:8080/",
          "height": 265
        },
        "id": "BHXAnVsoedxT",
        "outputId": "567ecbcd-8f13-43c5-d35a-f20c62162875"
      },
      "source": [
        "beta0, beta1 = least_squares_fit(X, Y)\n",
        "plot_data(X, Y, beta0, beta1)\n",
        "output_csv(beta0, beta1)"
      ],
      "execution_count": null,
      "outputs": [
        {
          "output_type": "display_data",
          "data": {
            "image/png": "[encoded data removed]",
            "text/plain": [
              "<Figure size 432x288 with 1 Axes>"
            ]
          },
          "metadata": {
            "needs_background": "light"
          }
        }
      ]
    },
    {
      "cell_type": "code",
      "metadata": {
        "id": "kDdwEjwdwl-h"
      },
      "source": [
        ""
      ],
      "execution_count": null,
      "outputs": []
    }
  ]
}