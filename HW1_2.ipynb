{
  "nbformat": 4,
  "nbformat_minor": 0,
  "metadata": {
    "colab": {
      "name": "HW1-2.ipynb",
      "provenance": [],
      "collapsed_sections": [],
      "include_colab_link": true
    },
    "kernelspec": {
      "name": "python3",
      "display_name": "Python 3"
    },
    "language_info": {
      "name": "python"
    }
  },
  "cells": [
    {
      "cell_type": "markdown",
      "metadata": {
        "id": "view-in-github",
        "colab_type": "text"
      },
      "source": [
        "<a href=\"https://colab.research.google.com/github/chung-anching/-CIE5133-/blob/main/HW1_2.ipynb\" target=\"_parent\"><img src=\"https://colab.research.google.com/assets/colab-badge.svg\" alt=\"Open In Colab\"/></a>"
      ]
    },
    {
      "cell_type": "markdown",
      "metadata": {
        "id": "Ssru5Zf_TGGR"
      },
      "source": [
        "### **Problem Description**\n",
        "In the boolean_learning.ipynb we have seen that increasing the training sample will improve the testing accuracy. Now we want to see how the feature number will exponentially affect the size of training data. We change the feature number from 4 bits into 8 bits. Please try to following the guide and report at least how many training data you need to get the lowest error rate. (i.e., how many training data you need to generate at least so that the training error would converge.)"
      ]
    },
    {
      "cell_type": "markdown",
      "metadata": {
        "id": "Am_v2V4EUjTM"
      },
      "source": [
        "### **Generate the target value**\n",
        "We first generate all the data with given target value, which is the target function."
      ]
    },
    {
      "cell_type": "code",
      "metadata": {
        "colab": {
          "base_uri": "https://localhost:8080/",
          "height": 450
        },
        "id": "GH17WjCgRqcI",
        "outputId": "a614198d-22cc-438a-d469-3d42d330ac7d"
      },
      "source": [
        "import pandas as pd\n",
        "import numpy as np\n",
        "from pandas import DataFrame\n",
        "df=DataFrame(index=pd.Index(['{0:04b}'.format(i) for i in range(2**8)],\n",
        "                            dtype='str',\n",
        "                            name='x'),columns=['f'])\n",
        "df.f=np.array(df.index.map(lambda i:i.count('0')) \n",
        "               > df.index.map(lambda i:i.count('1')),dtype=int)\n",
        "df # show all the input vectors and target values"
      ],
      "execution_count": null,
      "outputs": [
        {
          "output_type": "execute_result",
          "data": {
            "text/html": [
              "<div>\n",
              "<style scoped>\n",
              "    .dataframe tbody tr th:only-of-type {\n",
              "        vertical-align: middle;\n",
              "    }\n",
              "\n",
              "    .dataframe tbody tr th {\n",
              "        vertical-align: top;\n",
              "    }\n",
              "\n",
              "    .dataframe thead th {\n",
              "        text-align: right;\n",
              "    }\n",
              "</style>\n",
              "<table border=\"1\" class=\"dataframe\">\n",
              "  <thead>\n",
              "    <tr style=\"text-align: right;\">\n",
              "      <th></th>\n",
              "      <th>f</th>\n",
              "    </tr>\n",
              "    <tr>\n",
              "      <th>x</th>\n",
              "      <th></th>\n",
              "    </tr>\n",
              "  </thead>\n",
              "  <tbody>\n",
              "    <tr>\n",
              "      <th>0000</th>\n",
              "      <td>1</td>\n",
              "    </tr>\n",
              "    <tr>\n",
              "      <th>0001</th>\n",
              "      <td>1</td>\n",
              "    </tr>\n",
              "    <tr>\n",
              "      <th>0010</th>\n",
              "      <td>1</td>\n",
              "    </tr>\n",
              "    <tr>\n",
              "      <th>0011</th>\n",
              "      <td>0</td>\n",
              "    </tr>\n",
              "    <tr>\n",
              "      <th>0100</th>\n",
              "      <td>1</td>\n",
              "    </tr>\n",
              "    <tr>\n",
              "      <th>...</th>\n",
              "      <td>...</td>\n",
              "    </tr>\n",
              "    <tr>\n",
              "      <th>11111011</th>\n",
              "      <td>0</td>\n",
              "    </tr>\n",
              "    <tr>\n",
              "      <th>11111100</th>\n",
              "      <td>0</td>\n",
              "    </tr>\n",
              "    <tr>\n",
              "      <th>11111101</th>\n",
              "      <td>0</td>\n",
              "    </tr>\n",
              "    <tr>\n",
              "      <th>11111110</th>\n",
              "      <td>0</td>\n",
              "    </tr>\n",
              "    <tr>\n",
              "      <th>11111111</th>\n",
              "      <td>0</td>\n",
              "    </tr>\n",
              "  </tbody>\n",
              "</table>\n",
              "<p>256 rows × 1 columns</p>\n",
              "</div>"
            ],
            "text/plain": [
              "          f\n",
              "x          \n",
              "0000      1\n",
              "0001      1\n",
              "0010      1\n",
              "0011      0\n",
              "0100      1\n",
              "...      ..\n",
              "11111011  0\n",
              "11111100  0\n",
              "11111101  0\n",
              "11111110  0\n",
              "11111111  0\n",
              "\n",
              "[256 rows x 1 columns]"
            ]
          },
          "metadata": {},
          "execution_count": 1
        }
      ]
    },
    {
      "cell_type": "markdown",
      "metadata": {
        "id": "08YQav67VmPL"
      },
      "source": [
        "### **Sampling function**\n",
        "This get_sample function is to randomly sample the data from all 2^8=256 possible dataset. Unlike the class, we do not let possibility of sampling the first eight elements be twice of the last eight. We simply sample the data uniformly."
      ]
    },
    {
      "cell_type": "code",
      "metadata": {
        "id": "Zbhk8V-RRyQ7"
      },
      "source": [
        "def get_sample(n=1):\n",
        "   if n==1:\n",
        "      return '{0:04b}'.format(np.random.choice(list(range(256))))\n",
        "   else:\n",
        "      return [get_sample(1) for _ in range(n)]"
      ],
      "execution_count": null,
      "outputs": []
    },
    {
      "cell_type": "markdown",
      "metadata": {
        "id": "p40DjGgZWn-r"
      },
      "source": [
        "### **Student ID**\n",
        "Please fill in your student IDs below. Please notice that different student IDs should receive different dataset, which will lead to different answer. Make sure you fill the correct student IDs that you enrolled this class. Otherwise, you will get wrong answer and get no points."
      ]
    },
    {
      "cell_type": "code",
      "metadata": {
        "id": "ySz_KVBTWvsS"
      },
      "source": [
        "student_id = 'your_student_id' # fill with your student ID\n",
        "\n",
        "assert student_id != 'your_student_id', 'Please fill in your student_id before you start.'"
      ],
      "execution_count": null,
      "outputs": []
    },
    {
      "cell_type": "markdown",
      "metadata": {
        "id": "DR_gt1IgW2_f"
      },
      "source": [
        "### **Sample the taining data**\n",
        "Let's sample some data as the training dataset."
      ]
    },
    {
      "cell_type": "code",
      "metadata": {
        "colab": {
          "base_uri": "https://localhost:8080/"
        },
        "id": "NE_xxNkPWx0i",
        "outputId": "dcb8bbd3-da25-4b8a-b182-460fcdcc1ce8"
      },
      "source": [
        "np.random.seed(int(student_id[-2:])) # for reproduction\n",
        "train=df.loc[get_sample(100),'f'] # 5-element training set\n",
        "train.index.unique().shape    # how many unique elements? and we only sample one point for each unique element.\n",
        "df['g']=df.loc[train.index.unique(),'f']\n",
        "df.g"
      ],
      "execution_count": null,
      "outputs": [
        {
          "output_type": "execute_result",
          "data": {
            "text/plain": [
              "x\n",
              "0000        1.0\n",
              "0001        1.0\n",
              "0010        1.0\n",
              "0011        NaN\n",
              "0100        NaN\n",
              "           ... \n",
              "11111011    0.0\n",
              "11111100    NaN\n",
              "11111101    0.0\n",
              "11111110    NaN\n",
              "11111111    0.0\n",
              "Name: g, Length: 256, dtype: float64"
            ]
          },
          "metadata": {},
          "execution_count": 9
        }
      ]
    },
    {
      "cell_type": "markdown",
      "metadata": {
        "id": "Zwuh8N8sYNDp"
      },
      "source": [
        "### **Sample the testing data**\n",
        "Let's sample some data as the testing dataset."
      ]
    },
    {
      "cell_type": "code",
      "metadata": {
        "id": "lPRlV5NqYQqJ"
      },
      "source": [
        "np.random.seed(int(student_id[-2:]))\n",
        "test= df.loc[get_sample(2560),'f']"
      ],
      "execution_count": null,
      "outputs": []
    },
    {
      "cell_type": "markdown",
      "metadata": {
        "id": "Xkakxu5XYnLm"
      },
      "source": [
        "### **Guessing the f**\n",
        "Now we need to use the training dataset to generate a function g as our guess of f. As we haven't taught any learning algorithm yet, we simply guess the target value as **5** when the data is outside the training dataset. By doing so, the value that's not in the training dataset will be the error."
      ]
    },
    {
      "cell_type": "code",
      "metadata": {
        "id": "6PpjaHDQZrsc"
      },
      "source": [
        "df.g.fillna(5,inplace=True) # final specification of g"
      ],
      "execution_count": null,
      "outputs": []
    },
    {
      "cell_type": "markdown",
      "metadata": {
        "id": "bBz-xjDDZvVh"
      },
      "source": [
        "### **Calculate the error rate**\n",
        "Now we have our g function and testing dataset. Let's calculate the error rate."
      ]
    },
    {
      "cell_type": "code",
      "metadata": {
        "colab": {
          "base_uri": "https://localhost:8080/"
        },
        "id": "OU1GJYHqZ9KG",
        "outputId": "7e7579a9-0eb5-412a-c385-d83194602ebe"
      },
      "source": [
        "(df.loc[test.index,'g'] != df.loc[test.index,'f']).mean() # error rate"
      ],
      "execution_count": null,
      "outputs": [
        {
          "output_type": "execute_result",
          "data": {
            "text/plain": [
              "0.640234375"
            ]
          },
          "metadata": {},
          "execution_count": 12
        }
      ]
    },
    {
      "cell_type": "markdown",
      "metadata": {
        "id": "7w2V5dHganJ3"
      },
      "source": [
        "### **TODO**\n",
        "What we want you to do is to modify the code which generate the training dataset. Please find out that how much training data you should generate to let the error 0.2. It should be quit difficult to get precisely 0.2, but make sure the norm1(0.2 - error) is lower than 0.01. Another important thing is that you should find the **least** number of training data, not just any number that can make the error less than 0.2."
      ]
    },
    {
      "cell_type": "code",
      "metadata": {
        "id": "6OykDa4ZAFi1"
      },
      "source": [
        "# TODO finish this function\n",
        "######################################## hint ########################################\n",
        "# train=df.loc[get_sample(sample_num),'f'] # try to change the sample_num which change the training data number and see whate happen with the error\n",
        "# del df['g']\n",
        "# df.g.fillna(5,inplace=True) # final specification of g\n",
        "# print((df.loc[test.index,'g'] != df.loc[test.index,'f']).mean()) # error rate\n",
        "######################################################################################\n",
        "def find_sample_num(dataframe):\n",
        "  # Do not delete this line\n",
        "  np.random.seed(int(student_id[-2:]))\n",
        "  # while or something\n",
        "  return 355"
      ],
      "execution_count": null,
      "outputs": []
    },
    {
      "cell_type": "code",
      "metadata": {
        "id": "6Bp0N3VlBmRy"
      },
      "source": [
        "# Try to find out the sample number\n",
        "sample_num = find_sample_num(df)"
      ],
      "execution_count": null,
      "outputs": []
    },
    {
      "cell_type": "markdown",
      "metadata": {
        "id": "hSs0cMKvuSlc"
      },
      "source": [
        "### **The CSV file**\n",
        "The output_csv function is to output your sample data number to a standard format. Please pass in your beta0 and beta1 to generate the csv file. Notice that if your format is different from us, you'll get zero points in this homework. "
      ]
    },
    {
      "cell_type": "code",
      "metadata": {
        "id": "UVTR73zRdnkC"
      },
      "source": [
        "import csv\n",
        "def output_csv(sample_num):\n",
        "  csv_file_name = student_id + '_p2.csv'\n",
        "  with open(csv_file_name, 'w', newline='') as csvfile:\n",
        "    writer = csv.writer(csvfile)\n",
        "    writer.writerow([sample_num])"
      ],
      "execution_count": null,
      "outputs": []
    },
    {
      "cell_type": "markdown",
      "metadata": {
        "id": "2ZCLh04xuyMB"
      },
      "source": [
        "### **Sample Run**"
      ]
    },
    {
      "cell_type": "code",
      "metadata": {
        "id": "YzJnqDxFuw2x"
      },
      "source": [
        "output_csv(sample_num)"
      ],
      "execution_count": null,
      "outputs": []
    },
    {
      "cell_type": "code",
      "metadata": {
        "id": "ZwMpkHZIwJ0u"
      },
      "source": [
        ""
      ],
      "execution_count": null,
      "outputs": []
    }
  ]
}